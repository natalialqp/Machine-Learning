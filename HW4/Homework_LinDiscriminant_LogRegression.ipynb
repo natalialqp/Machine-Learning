{
 "cells": [
  {
   "cell_type": "markdown",
   "metadata": {
    "deletable": false,
    "editable": false
   },
   "source": [
    "<div class=\"alert alert-block alert-info\" >\n",
    "    <h1>Machine Learning: Assignment 4</h1>\n",
    "    <h2>This is a two week assignment</h2>\n",
    "    <h3>General Information:</h3>\n",
    "    <p>Feel free to add cells if required.<br> Feel free to write your own function block to reduce the redundancy.<br> Answers belong into the corresponding cells (below the question). <br><br> If you encounter empty cells underneath the answer that can not be edited, please ignore them, they are for testing purposes.<br><br>When editing an assignment there can be the case that there are variables in the kernel. To make sure your assignment works, please restart the kernel and run all cells before submitting (e.g. via <i>Kernel -> Restart & Run All</i>). We don't consider that respective solution if you make this mistake (no excuse).</p>\n",
    "    <br><br><b> Plot should have axis labels, grid, legend, title, atleast size 10X10 also give proper comments, function name, variable names to your coding, if you didn't follow the instructions there will be a reduction in the points.</b><br><br> \n",
    "     <br><br><b> Write sudo-code if you didn't get output or left out of time so that you will be awarded with atmost 50% of marks for that particular session.</b><br><br>\n",
    "    <h3>Submission:</h3>\n",
    "    <p>Use the following naming convention for your submissions: LA_FirstnameLastname_dateOfLecture, e.g LA_JohnDoe_YYMMDD\n",
    "     <br><br>Please submit your notebook via LEA. The assignment is due on <b>$13^{th}$ November, Saturday at 18:00.</b> </p>\n",
    "    <h3>Group Work:</h3>\n",
    "    <p>You are allowed to work in groups of up to two people. Please enter the UID (your username here) of each member of the group into the next cell. We apply plagiarism checking, so do not submit solutions from other people except your team members. If an assignment has a copied solution, the task will be graded with 0 points for all people with the same solution.</p>\n",
    "    <p><b>YOU SHOULD ONLY SUBMIT EXACTLY ONE PER GROUP</b></p>\n",
    "    <h3>Questions about the Assignment:</h3>\n",
    "    <p>If you have questions about the assignment please post them in the LEA forum before the deadline. Don't wait until the last day to post questions.</p></div>"
   ]
  },
  {
   "cell_type": "code",
   "execution_count": null,
   "metadata": {
    "deletable": false
   },
   "outputs": [],
   "source": [
    "'''\n",
    "Group Work:\n",
    "Enter the UID (i.e. student2s) of each team member into the variables. \n",
    "If you work alone please leave the second variable empty, or extend the list if necessary.\n",
    "'''\n",
    "member1 = ''\n",
    "member2 = ''"
   ]
  },
  {
   "cell_type": "markdown",
   "metadata": {
    "deletable": false,
    "editable": false
   },
   "source": [
    "# Classification [100 points]"
   ]
  },
  {
   "cell_type": "code",
   "execution_count": null,
   "metadata": {
    "deletable": false
   },
   "outputs": [],
   "source": [
    "import numpy as np\n",
    "import matplotlib.pyplot as plt\n",
    "import pandas as pd\n",
    "import seaborn as sns\n",
    "import sklearn\n",
    "#Import other libraries here"
   ]
  },
  {
   "cell_type": "markdown",
   "metadata": {
    "deletable": false,
    "editable": false
   },
   "source": [
    "# Task 1: Linear Discriminants [50 points]\n",
    "### Read Lecture 5 to implement it"
   ]
  },
  {
   "cell_type": "markdown",
   "metadata": {
    "deletable": false,
    "editable": false
   },
   "source": [
    "### 1. Create datapoints as follows [10 points]\n",
    "- The points for the first class are sampled from the Gaussian distribution with the mean1 [0,4], \n",
    "- The points for the second class are sampled from the Gaussian distribution with the mean2 [3,3], \n",
    "- The covariance matrix $$\\begin{bmatrix} 0.3 & 0.2 \\\\ 0.2 & 0.2 \\end{bmatrix}$$ is the same for both distributions. \n",
    "- Create 300 sample for each class and visualise them, give different colors for two classes."
   ]
  },
  {
   "cell_type": "code",
   "execution_count": null,
   "metadata": {
    "deletable": false
   },
   "outputs": [],
   "source": [
    "#code here\n",
    "# Show plot"
   ]
  },
  {
   "cell_type": "markdown",
   "metadata": {
    "deletable": false,
    "editable": false
   },
   "source": [
    "### 2. Implement least-square classification method (you should write your own function no libraries except math ones like numpy). Only linear discriminant functions without any generalisation and plot the line separating these two classes, along with the previous plot [20 points]"
   ]
  },
  {
   "cell_type": "code",
   "execution_count": null,
   "metadata": {
    "deletable": false
   },
   "outputs": [],
   "source": [
    "#code here\n",
    "# Show plot"
   ]
  },
  {
   "cell_type": "markdown",
   "metadata": {
    "deletable": false,
    "editable": false
   },
   "source": [
    "### 3. Plot the outlier variations [20 points]\n",
    "\n",
    "#### 3.1 Plot-1 [10 points]\n",
    "- Add outliers (only to one class), namely too correct data points. Visualise how your decision boundary will be changed towards one class where the points are being added. **(look at first slide of Problems with Least Squares in lecture-5)**\n",
    "- Plot the changed decision boundary along with the plot from step-2 show color differentiation for new boundary, old boundary, classes (outlier should have same color as the class).\n"
   ]
  },
  {
   "cell_type": "code",
   "execution_count": null,
   "metadata": {
    "deletable": false
   },
   "outputs": [],
   "source": [
    "#code here\n",
    "# Show plot"
   ]
  },
  {
   "cell_type": "markdown",
   "metadata": {
    "deletable": false,
    "editable": false
   },
   "source": [
    "#### 3.2 Plot-2 [10 points]\n",
    "- Add outliers (both the classes, in the decision region), namely misclassified data points. Show that your decision boundary is sensitive to outliers. **(look at second slide of Problems with Least Squares in lecture-5)**\n",
    "\n",
    "- Plot the changed decision boundary along with the plot from step-2 (dont merge with the plot in step 3.1) show color differentiation for new boundary, old boundary, classes (outlier should have same color as the class)."
   ]
  },
  {
   "cell_type": "code",
   "execution_count": null,
   "metadata": {
    "deletable": false
   },
   "outputs": [],
   "source": [
    "#code here\n",
    "# Show plot"
   ]
  },
  {
   "cell_type": "markdown",
   "metadata": {
    "deletable": false,
    "editable": false
   },
   "source": [
    "# Task 2: Logistic Regression [50 points]\n",
    "### Read Lecture 6 to implement it"
   ]
  },
  {
   "cell_type": "markdown",
   "metadata": {
    "deletable": false,
    "editable": false
   },
   "source": [
    "### 1. Implement logistic regression from scratch, only with numpy library [30 points]\n",
    "- Use diagnosis.csv dataset to build and validate it. Have \"diagnosis\" column / dimension as a label.\n",
    "- Split train and test as 75-25% (no validation is required). Should not change the splitting percentage.\n",
    "- should achieve accuracy more or equal to 95% (do necessary preprocessing if required)\n",
    "- Give heat map for confusion matrix and classification report (As in second assignment)"
   ]
  },
  {
   "cell_type": "code",
   "execution_count": null,
   "metadata": {
    "deletable": false
   },
   "outputs": [],
   "source": [
    "def predict():\n",
    "    #code here    \n",
    "    return\n",
    "\n",
    "def logistic_regression():\n",
    "    #code here    \n",
    "    return\n",
    "\n",
    "#Common Mistake:\n",
    "#You should have \"predict\" separately as the existing libraries have\n",
    "#otherwise it calculates the weight again for the test data\n",
    "#think how to make it handy"
   ]
  },
  {
   "cell_type": "markdown",
   "metadata": {
    "deletable": false,
    "editable": false
   },
   "source": [
    "### 2. Compare your implementation with the existing logistic regression algorithm given in python [10 points]\n",
    "\n",
    "- Use the same training and testing data that you provided for the own implementation\n",
    "- You should get a similar accuracy $\\pm 2$ to your own implementation (someitmes less than your implementation).\n",
    "- Give heat map for confusion matrix and classification report (As in second assignment)"
   ]
  },
  {
   "cell_type": "code",
   "execution_count": null,
   "metadata": {
    "deletable": false
   },
   "outputs": [],
   "source": [
    "#code here"
   ]
  },
  {
   "cell_type": "markdown",
   "metadata": {
    "deletable": false,
    "editable": false
   },
   "source": [
    "### 3. Apply your own implementation to the other given data sets: [10 points]\n",
    "#### 3.1. purchased.csv (dimension 'purchased' includes labels) [5 points]\n",
    "- Split train and test as 75-25% (no validation is required). Should not change the splitting percentage.\n",
    "- should achieve accuracy 89-92% (do necessary preprocessing if required)\n",
    "- Give heat map for confusion matrix and classification report (As in second assignment)\n",
    "\n"
   ]
  },
  {
   "cell_type": "code",
   "execution_count": null,
   "metadata": {
    "deletable": false
   },
   "outputs": [],
   "source": [
    "# Extract data\n",
    "# Do preprocessing if required\n",
    "# call logistic regression\n",
    "# Display the result"
   ]
  },
  {
   "cell_type": "markdown",
   "metadata": {
    "deletable": false,
    "editable": false
   },
   "source": [
    "#### 3.2. advertising.csv (dimension 'Clicked on Ad' includes labels) [5 points]\n",
    "- Split train and test as 75-25% (no validation is required). Should not change the splitting percentage.\n",
    "- should achieve accuracy more or equal to 95% (do necessary preprocessing if required)\n",
    "- Give heat map for confusion matrix and classification report (As in second assignment)"
   ]
  },
  {
   "cell_type": "code",
   "execution_count": null,
   "metadata": {
    "deletable": false
   },
   "outputs": [],
   "source": [
    "# Extract data\n",
    "# Do preprocessing if required\n",
    "# call logistic regression\n",
    "# Display the result"
   ]
  }
 ],
 "metadata": {
  "kernelspec": {
   "display_name": "Python 3",
   "language": "python",
   "name": "python3"
  },
  "language_info": {
   "codemirror_mode": {
    "name": "ipython",
    "version": 3
   },
   "file_extension": ".py",
   "mimetype": "text/x-python",
   "name": "python",
   "nbconvert_exporter": "python",
   "pygments_lexer": "ipython3",
   "version": "3.8.8"
  }
 },
 "nbformat": 4,
 "nbformat_minor": 4
}
