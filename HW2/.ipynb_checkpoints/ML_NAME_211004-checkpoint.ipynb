{
 "cells": [
  {
   "cell_type": "markdown",
   "metadata": {
    "deletable": false,
    "editable": false
   },
   "source": [
    "<div class=\"alert alert-block alert-info\" >\n",
    "    <h1>Machine Learning: Assignment 2</h1>\n",
    "    <h2>This is a two week assignment</h2>\n",
    "    <h3>General Information:</h3>\n",
    "    <p>Feel free to add cells if required.<br> Feel free to write your own function block to reduce the redundancy.<br> Answers belong into the corresponding cells (below the question). <br><br> If you encounter empty cells underneath the answer that can not be edited, please ignore them, they are for testing purposes.<br><br>When editing an assignment there can be the case that there are variables in the kernel. To make sure your assignment works, please restart the kernel and run all cells before submitting (e.g. via <i>Kernel -> Restart & Run All</i>). We don't consider that respective solution if you make this mistake (no excuse).</p>\n",
    "    <br><br><b> Plot should have axis labels, grid, legend, title, atleast size 10X10 .Also give proper comments, function name, variable names to your coding, if you didn't follow the instructions there will be a reduction in the points.</b><br><br> \n",
    "     <br><br><b> Write sudo-code if you didn't get output or left out of time so that you will be awarded with atmost 50% of marks for that particular session.</b><br><br>\n",
    "    <h3>Submission:</h3>\n",
    "    <p>Use the following naming convention for your submissions: LA_FirstnameLastname_dateOfLecture, e.g LA_JohnDoe_YYMMDD\n",
    "     <br><br>Please submit your notebook via LEA. The assignment is due on <b>$16^{th}$ October, Saturday at 18:00.</b> </p>\n",
    "    <h3>Group Work:</h3>\n",
    "    <p>You are allowed to work in groups of up to two people. Please enter the UID (your username here) of each member of the group into the next cell. We apply plagiarism checking, so do not submit solutions from other people except your team members. If an assignment has a copied solution, the task will be graded with 0 points for all people with the same solution.</p>\n",
    "    <p><b>YOU SHOULD ONLY SUBMIT EXACTLY ONE PER GROUP</b></p>\n",
    "    <h3>Questions about the Assignment:</h3>\n",
    "    <p>If you have questions about the assignment please post them in the LEA forum before the deadline. Don't wait until the last day to post questions.</p></div>"
   ]
  },
  {
   "cell_type": "code",
   "execution_count": 41,
   "metadata": {
    "deletable": false
   },
   "outputs": [],
   "source": [
    "'''\n",
    "Group Work:\n",
    "Enter the UID (i.e. student2s) of each team member into the variables. \n",
    "If you work alone please leave the second variable empty, or extend the list if necessary.\n",
    "'''\n",
    "member1 = 'nquiro2s'\n",
    "member2 = 'slatou2s'"
   ]
  },
  {
   "cell_type": "markdown",
   "metadata": {
    "deletable": false,
    "editable": false
   },
   "source": [
    "# Build a spam classifier using Naive Bayes[100 points]"
   ]
  },
  {
   "cell_type": "code",
   "execution_count": 42,
   "metadata": {
    "deletable": false
   },
   "outputs": [],
   "source": [
    "#Headers\n",
    "import pandas as pd\n",
    "import numpy as np\n",
    "import matplotlib.pyplot as plt\n",
    "import seaborn as sns\n",
    "import sklearn\n",
    "#Include your other headers here\n",
    "import re\n",
    "import nltk\n",
    "from nltk.corpus import stopwords\n",
    "from sklearn.model_selection import train_test_split\n",
    "from sklearn.feature_extraction.text import TfidfVectorizer\n",
    "from sklearn.naive_bayes import MultinomialNB\n",
    "from sklearn.feature_extraction.text import CountVectorizer\n",
    "from sklearn.metrics import f1_score\n",
    "from sklearn.metrics import confusion_matrix\n",
    "from sklearn.metrics import accuracy_score\n",
    "from sklearn.metrics import classification_report\n",
    "#nltk.download()"
   ]
  },
  {
   "cell_type": "markdown",
   "metadata": {
    "deletable": false,
    "editable": false
   },
   "source": [
    "## Step 1:- Load your data[10 points]\n",
    "#### There are three datasets for training: TrainDataset1.csv, TrainDataset2.csv and TrainDataset3.txt. Each dataset contains short messages with the labels (ham or spam). Load the dataset using pandas."
   ]
  },
  {
   "cell_type": "code",
   "execution_count": 43,
   "metadata": {
    "deletable": false
   },
   "outputs": [],
   "source": [
    "#Load your dataset in this cell\n",
    "def loadData(nameFile):\n",
    "    if '.csv' in nameFile:\n",
    "        if 'Train' in nameFile:\n",
    "            file = pd.read_csv(nameFile)\n",
    "            file.columns=['type','text']\n",
    "            return file\n",
    "        else:\n",
    "            file = pd.read_csv(nameFile)\n",
    "            file.columns=['text']\n",
    "            return file\n",
    "    else:\n",
    "        test = []\n",
    "        for line in open(nameFile,'r').readlines():\n",
    "            columns = []\n",
    "            for col in line.split('\t'):\n",
    "                columns.append(col)\n",
    "            test.append(columns)\n",
    "        return pd.DataFrame(test,columns=['type','text'])"
   ]
  },
  {
   "cell_type": "markdown",
   "metadata": {
    "deletable": false,
    "editable": false
   },
   "source": [
    "## Step 2:- Preprocess the data[20 points]\n",
    "#### Analyse the data, for this you will need to process the text, namely remove punctuation and stopwords, and then create a list of clean text words (Research how to do this [Hint:- see how the texts are pre-processed in Natural Language Processing]) use any libraries that you feel comfortable. Now Combine them into one big data set for the training."
   ]
  },
  {
   "cell_type": "code",
   "execution_count": 53,
   "metadata": {
    "deletable": false
   },
   "outputs": [],
   "source": [
    "#Pre-process the data\n",
    "def preProcessing(dataset_brut):\n",
    "    stop_words = set(stopwords.words('english'))\n",
    "    for i,row in dataset_brut.iterrows():\n",
    "        dataset_brut['text'][i] = re.sub('[,;.!?*@#$€£+-/]', '', dataset_brut['text'][i])\n",
    "        filtered_sentence = []\n",
    "        for word in dataset_brut['text'][i].split(' '):\n",
    "            if word not in stop_words:\n",
    "                filtered_sentence.append(word)\n",
    "        dataset_brut['text'][i] =  filtered_sentence \n",
    "    return dataset_brut\n"
   ]
  },
  {
   "cell_type": "markdown",
   "metadata": {
    "deletable": false,
    "editable": false
   },
   "source": [
    "## Step 3:- Visualise the data[20 points]\n",
    "#### Try to visualize and analyse the data such as before and after pre processing, number of ham/spam etc. Analyse as many verticals you can, feel free to use graphical libraries like seaborn."
   ]
  },
  {
   "cell_type": "code",
   "execution_count": 60,
   "metadata": {
    "deletable": false
   },
   "outputs": [
    {
     "name": "stdout",
     "output_type": "stream",
     "text": [
      "Data befor pre-processing.\n",
      "      type                                               text\n",
      "0      ham  Hope you are having a good week. Just checking in\n",
      "1      ham                            K..give back my thanks.\n",
      "2      ham        Am also doing in cbe only. But have to pay.\n",
      "3     spam  complimentary 4 STAR Ibiza Holiday or £10,000 ...\n",
      "4     spam  okmail: Dear Dave this is your final notice to...\n",
      "...    ...                                                ...\n",
      "5554   ham  You are a great role model. You are giving so ...\n",
      "5555   ham  Awesome, I remember the last time we got someb...\n",
      "5556  spam  If you don't, your prize will go to another cu...\n",
      "5557  spam  SMS. ac JSco: Energy is high, but u may not kn...\n",
      "5558   ham                    Shall call now dear having food\n",
      "\n",
      "[5559 rows x 2 columns]\n",
      "Data after pre-processing.\n",
      "      type                                               text\n",
      "0      ham                 [Hope, good, week, Just, checking]\n",
      "1      ham                              [Kgive, back, thanks]\n",
      "2      ham                          [Am, also, cbe, But, pay]\n",
      "3     spam  [complimentary, 4, STAR, Ibiza, Holiday, 10000...\n",
      "4     spam  [okmail:, Dear, Dave, final, notice, collect, ...\n",
      "...    ...                                                ...\n",
      "5554   ham  [You, great, role, model, You, giving, much, r...\n",
      "5555   ham  [Awesome, I, remember, last, time, got, somebo...\n",
      "5556  spam  [If, prize, go, another, customer, T&C, wwwtcb...\n",
      "5557  spam  [SMS, ac, JSco:, Energy, high, u, may, know, 2...\n",
      "5558   ham                          [Shall, call, dear, food]\n",
      "\n",
      "[5559 rows x 2 columns]\n",
      "Number of Ham & Spam\n",
      "ham     4812\n",
      "spam     747\n",
      "Name: type, dtype: int64\n"
     ]
    },
    {
     "data": {
      "text/plain": [
       "Text(0.5, 1.0, 'Number of ham and spam')"
      ]
     },
     "execution_count": 60,
     "metadata": {},
     "output_type": "execute_result"
    },
    {
     "data": {
      "image/png": "[encoded data removed]",
      "text/plain": [
       "<Figure size 432x288 with 1 Axes>"
      ]
     },
     "metadata": {
      "needs_background": "light"
     },
     "output_type": "display_data"
    }
   ],
   "source": [
    "#Visualise the data\n",
    "brut = loadData('TrainDataset1.csv')\n",
    "print('Data befor pre-processing.')\n",
    "print(brut)\n",
    "net = preProcessing(brut)\n",
    "print('Data after pre-processing.')\n",
    "print(net)\n",
    "#your code here\n",
    "print('Number of Ham & Spam')\n",
    "print(net['type'].value_counts())\n",
    "ham, spam = net['type'].value_counts()\n",
    "plt.bar('spam',spam)\n",
    "plt.bar('ham',ham)\n",
    "plt.title('Number of ham and spam')"
   ]
  },
  {
   "cell_type": "markdown",
   "metadata": {
    "deletable": false,
    "editable": false
   },
   "source": [
    "## Step 4:- Build, train and validate the classifer, [20 points]\n",
    "\n",
    "### Training on supervised data (labelled data)\n",
    "\n",
    "#### Use the data in order to build your own Naive Bayes classifier (You can either use existing Naive Bayes from sklearn or build your own). Build the classifier, train it and then validate. Provide your result in confusion matrix (use heatmap from seaborn) along with the classification report from sklearn. Validation accuracy should be around 99%."
   ]
  },
  {
   "cell_type": "code",
   "execution_count": 61,
   "metadata": {},
   "outputs": [
    {
     "name": "stdout",
     "output_type": "stream",
     "text": [
      "Rows in test set: (1668,)\n",
      "Rows in train set: (3891,)\n",
      "classifier accuracy 98.86%\n",
      "Confusion Matrix :\n",
      "[[1459    5]\n",
      " [  14  190]]\n",
      "Accuracy Score : 0.9886091127098321\n",
      "Report : \n",
      "              precision    recall  f1-score   support\n",
      "\n",
      "           0       0.99      1.00      0.99      1464\n",
      "           1       0.97      0.93      0.95       204\n",
      "\n",
      "    accuracy                           0.99      1668\n",
      "   macro avg       0.98      0.96      0.97      1668\n",
      "weighted avg       0.99      0.99      0.99      1668\n",
      "\n",
      "F-Measure: 0.952\n"
     ]
    },
    {
     "data": {
      "image/png": "[encoded data removed]",
      "text/plain": [
       "<Figure size 432x288 with 2 Axes>"
      ]
     },
     "metadata": {
      "needs_background": "light"
     },
     "output_type": "display_data"
    }
   ],
   "source": [
    "\n",
    "def Training_on_supervised_data(net): \n",
    "    net['type'] = net['type'].apply(lambda x: 1 if x == 'spam' else 0)\n",
    "    x_train, x_test, y_train, y_test = train_test_split(net['text'], net['type'], test_size = 0.3, random_state = 0)   \n",
    "\n",
    "    print('Rows in test set: ' + str(x_test.shape))\n",
    "    print('Rows in train set: ' + str(x_train.shape))\n",
    "\n",
    "    document_train = [''.join(str(item)) for item in x_train]\n",
    "    document_test = [''.join(str(item)) for item in x_test]\n",
    "\n",
    "    vectorizer = CountVectorizer()\n",
    "    features_train_transformed = vectorizer.fit_transform(document_train) #gives tf idf vector for x_train\n",
    "    features_test_transformed  = vectorizer.transform(document_test) #gives tf idf vector for x_test\n",
    "\n",
    "    classifier = MultinomialNB()\n",
    "    classifier.fit(features_train_transformed, y_train)\n",
    "    print(\"classifier accuracy {:.2f}%\".format(classifier.score(features_test_transformed, y_test) * 100))\n",
    "\n",
    "    predicted = classifier.predict(features_test_transformed)\n",
    "    actual = y_test.tolist()\n",
    "    results = confusion_matrix(actual, predicted)\n",
    "    print('Confusion Matrix :')\n",
    "    print(results)\n",
    "    print ('Accuracy Score :',accuracy_score(actual, predicted))\n",
    "    print ('Report : ')\n",
    "    print (classification_report(actual, predicted) )\n",
    "    score_2 = f1_score(actual, predicted, average = 'binary')\n",
    "    print('F-Measure: %.3f' % score_2)\n",
    "    sns.heatmap(results, annot=True)\n",
    "    \n",
    "Training_on_supervised_data(net)\n"
   ]
  },
  {
   "cell_type": "code",
   "execution_count": null,
   "metadata": {
    "deletable": false
   },
   "outputs": [],
   "source": []
  },
  {
   "cell_type": "markdown",
   "metadata": {
    "deletable": false,
    "editable": false
   },
   "source": [
    "## Step 5:- Test the classifier[10 points]\n",
    "\n",
    "### Supervised classification[5 points] \n",
    "\n",
    "#### Test your Classifier using  the SMSSpamCollection.txt dataset provide a heatmap and classification report. Test accuracy should be around 99%.\n"
   ]
  },
  {
   "cell_type": "code",
   "execution_count": 99,
   "metadata": {
    "deletable": false
   },
   "outputs": [
    {
     "name": "stdout",
     "output_type": "stream",
     "text": [
      "Number of Ham & Spam\n",
      "ham     4827\n",
      "spam     747\n",
      "Name: type, dtype: int64\n",
      "Rows in test set: (1673,)\n",
      "Rows in train set: (3901,)\n",
      "classifier accuracy 98.33%\n",
      "Confusion Matrix :\n",
      "[[1425    6]\n",
      " [  22  220]]\n",
      "Accuracy Score : 0.9832635983263598\n",
      "Report : \n",
      "              precision    recall  f1-score   support\n",
      "\n",
      "           0       0.98      1.00      0.99      1431\n",
      "           1       0.97      0.91      0.94       242\n",
      "\n",
      "    accuracy                           0.98      1673\n",
      "   macro avg       0.98      0.95      0.97      1673\n",
      "weighted avg       0.98      0.98      0.98      1673\n",
      "\n",
      "F-Measure: 0.940\n"
     ]
    },
    {
     "data": {
      "image/png": "[encoded data removed]",
      "text/plain": [
       "<Figure size 432x288 with 2 Axes>"
      ]
     },
     "metadata": {
      "needs_background": "light"
     },
     "output_type": "display_data"
    }
   ],
   "source": [
    "# Test the classifier\n",
    "\n",
    "brut = loadData('SMSSpamCollection.txt')\n",
    "net = preProcessing(brut)\n",
    "\n",
    "print('Number of Ham & Spam')\n",
    "print(net['type'].value_counts())\n",
    "ham, spam = net['type'].value_counts()\n",
    "\n",
    "Training_on_supervised_data(net)"
   ]
  },
  {
   "cell_type": "markdown",
   "metadata": {
    "deletable": false,
    "editable": false
   },
   "source": [
    "### Unsupervised classification[5 points] \n",
    "\n",
    "#### Test your Classifier using  the TestDataset.csv dataset. This dataset is not labelled so kindly predict the labels and visualise it[5 points]."
   ]
  },
  {
   "cell_type": "code",
   "execution_count": 122,
   "metadata": {
    "deletable": false
   },
   "outputs": [
    {
     "name": "stdout",
     "output_type": "stream",
     "text": [
      "Number of Ham & Spam\n",
      "Ham : 1016\n",
      "Spam : 99\n"
     ]
    }
   ],
   "source": [
    "\n",
    "brut = loadData('TestDataset.csv')\n",
    "net = preProcessing(brut)\n",
    "\n",
    "document_test = [''.join(str(item)) for item in net['text']]\n",
    "features_test_transformed  = vectorizer.transform(document_test) #gives tf idf vector for x_test\n",
    "\n",
    "predicted = classifier.predict(features_test_transformed)\n",
    "#actual = y_test.tolist()\n",
    "\n",
    "print('Number of Ham & Spam')\n",
    "print('Ham :',np.count_nonzero(predicted == 0))\n",
    "print('Spam :',np.count_nonzero(predicted == 1))\n"
   ]
  },
  {
   "cell_type": "markdown",
   "metadata": {
    "deletable": false,
    "editable": false
   },
   "source": [
    "## Step 6:- Cheat the classifier[20 points]\n",
    "\n",
    "#### Try to cheat the classifier by adding \"good words\" to the end of test dataset(TestDataset.csv) e.g:- Oh! no share Market has fallen down by $100,000 due to Corona outbreak... try mixing up spam and ham words see how the classifier works. Output the results in a good format to validate your work[15 points]  "
   ]
  },
  {
   "cell_type": "code",
   "execution_count": 128,
   "metadata": {
    "deletable": false
   },
   "outputs": [
    {
     "name": "stdout",
     "output_type": "stream",
     "text": [
      "Number of Ham & Spam\n",
      "Ham : 1016 > cheat :  1018\n",
      "Spam : 99 > cheat :  97\n"
     ]
    }
   ],
   "source": [
    "# Cheat the classifier\n",
    "#your code here\n",
    "\n",
    "brut = loadData('TestDataset1_cheat.csv')\n",
    "net = preProcessing(brut)\n",
    "\n",
    "document_test = [''.join(str(item)) for item in net['text']]\n",
    "features_test_transformed  = vectorizer.transform(document_test) #gives tf idf vector for x_test\n",
    "\n",
    "predicted2 = classifier.predict(features_test_transformed)\n",
    "#actual = y_test.tolist()\n",
    "\n",
    "print('Number of Ham & Spam')\n",
    "print('Ham :',np.count_nonzero(predicted == 0), '> cheat : ', np.count_nonzero(predicted2 == 0))\n",
    "print('Spam :',np.count_nonzero(predicted == 1), '> cheat : ', np.count_nonzero(predicted2 == 1))\n"
   ]
  },
  {
   "cell_type": "markdown",
   "metadata": {
    "deletable": false,
    "editable": false
   },
   "source": [
    "#### Write your analysis of how you intended to cheat the classifier and how it performed in few words (provide your inference)[5 points]"
   ]
  },
  {
   "cell_type": "markdown",
   "metadata": {
    "deletable": false
   },
   "source": [
    "**Give your expalanation here**  \n",
    "I added \"good words\" into spam lines."
   ]
  },
  {
   "cell_type": "markdown",
   "metadata": {
    "deletable": false,
    "editable": false
   },
   "source": [
    "### Help\n",
    "\n",
    "<a href=\"https://en.wikipedia.org/wiki/Naive_Bayes_spam_filtering\" target=\"_top\">Spam Filtering using Naive Bayes</a><br>\n",
    "<a href=\"https://seaborn.pydata.org/generated/seaborn.heatmap.html\" target=\"_top\">Seaborn Heatmap</a><br>\n",
    "<a href=\"https://scikit-learn.org/stable/modules/naive_bayes.html\" target=\"_top\">Sklearn Naive Bayes</a><br>\n",
    "<a href=\"https://scikit-learn.org/stable/modules/model_evaluation.html\" target=\"_top\">Sklearn Metrics</a><br>\n",
    "<a href=\"https://pandas.pydata.org/docs/getting_started/index.html#getting-started\" target=\"_top\">Intro to Pandas</a>"
   ]
  },
  {
   "cell_type": "code",
   "execution_count": null,
   "metadata": {},
   "outputs": [],
   "source": []
  }
 ],
 "metadata": {
  "kernelspec": {
   "display_name": "Python 3",
   "language": "python",
   "name": "python3"
  },
  "language_info": {
   "codemirror_mode": {
    "name": "ipython",
    "version": 3
   },
   "file_extension": ".py",
   "mimetype": "text/x-python",
   "name": "python",
   "nbconvert_exporter": "python",
   "pygments_lexer": "ipython3",
   "version": "3.7.6"
  }
 },
 "nbformat": 4,
 "nbformat_minor": 4
}
